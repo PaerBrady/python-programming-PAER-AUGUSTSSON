{
 "cells": [
  {
   "cell_type": "markdown",
   "metadata": {},
   "source": [
    "\n",
    "<a href=\"https://colab.research.google.com/github/pr0fez/AI24-Programmering/blob/master/Exercises/01-if-statement-exercise.ipynb\" target=\"_parent\"><img align=\"left\" src=\"https://colab.research.google.com/assets/colab-badge.svg\" alt=\"Open In Colab\"/></a> &nbsp; to see hints and answers."
   ]
  },
  {
   "cell_type": "markdown",
   "metadata": {},
   "source": [
    "# if statements exercises\n",
    "\n",
    "---\n",
    "These are introductory exercises in Python with focus in **if** statement.\n",
    "\n",
    "<p class = \"alert alert-info\" role=\"alert\"><b>Remember</b> to use <b>descriptive variable names</b> in order to get readable code </p>\n",
    "\n",
    "<p class = \"alert alert-info\" role=\"alert\"><b>Remember</b> to format your answers in a neat way using <b>f-strings</b>\n",
    "\n",
    "<p class = \"alert alert-info\" role=\"alert\"><b>Remember</b> to format your input questions in a pedagogical way to guide the user\n",
    "\n",
    "The number of stars (\\*), (\\*\\*), (\\*\\*\\*) denotes the difficulty level of the task\n",
    "\n",
    "---"
   ]
  },
  {
   "cell_type": "markdown",
   "metadata": {},
   "source": [
    "## 1. Check sign (*)\n",
    "\n",
    "Ask the user to input a number and check if this number is **positive**, **negative** or **zero** and print it out."
   ]
  },
  {
   "cell_type": "code",
   "execution_count": null,
   "metadata": {},
   "outputs": [],
   "source": [
    "# Ask user to enter a number. \n",
    "\n",
    "number = int(input(\"write a number: \"))\n",
    "\n",
    "# Check if the entered number is either postive, negative or zero.\n",
    "\n",
    "if number > 0: \n",
    "    print(f\"the number {number} is postive\")\n",
    "elif number < 0:\n",
    "    print(f\"the number {number} is negative\")\n",
    "else:\n",
    "    print (f\"the number {number} is zero\")"
   ]
  },
  {
   "cell_type": "markdown",
   "metadata": {},
   "source": [
    "---\n",
    "## 2. Smallest (*)\n",
    "Ask the user to input two numbers and check which one is the smallest and print it out.   "
   ]
  },
  {
   "cell_type": "code",
   "execution_count": null,
   "metadata": {},
   "outputs": [],
   "source": [
    "# Ask user to enter two numbers.\n",
    "\n",
    "number1 = int(input(\"write a number: \")) \n",
    "number2 = int(input(\"write another number: \"))\n",
    "\n",
    "# Check wich of the entered numbers are smallest.\n",
    "\n",
    "if number1 < number2:\n",
    "    print(f\"number {number1} is smaller then {number2}\")\n",
    "else:\n",
    "    print(f\"number {number2} is smaller then {number1}\")"
   ]
  },
  {
   "cell_type": "markdown",
   "metadata": {},
   "source": [
    "---\n",
    "## 3. Right angle (*)\n",
    "\n",
    "Ask the user to input three angles and check if the triangle has a right angle. Your code should make sure that all three angles are valid and make up a triangle.\n",
    "\n",
    "<img align=\"left\" src=\"../assets/triangle_angles.png\" width=\"200\"/>"
   ]
  },
  {
   "cell_type": "code",
   "execution_count": null,
   "metadata": {},
   "outputs": [],
   "source": [
    "print(sum(1,2,3))"
   ]
  },
  {
   "cell_type": "markdown",
   "metadata": {},
   "source": [
    "right angle = 90°\n",
    "sum of all angles in triangle: 180°"
   ]
  },
  {
   "cell_type": "code",
   "execution_count": 26,
   "metadata": {},
   "outputs": [
    {
     "name": "stdout",
     "output_type": "stream",
     "text": [
      "207.0 is not a riangle\n"
     ]
    }
   ],
   "source": [
    "# Ask user to enter 3 angels of a triangle  \n",
    "\n",
    "Angle1 = float(input(\"Please enter your first angle: \"))\n",
    "Angle2 = float(input(\"Pleas enter your second angle: \"))\n",
    "Angle3 = float(input(\"Please enter your third angle: \"))\n",
    "\n",
    "# Check if on of the entered angles is a right angle and if the angeles are valid for a triangle\n",
    "All_Angles = Angle1 + Angle2 + Angle3\n",
    "Right_Angle = Angle1 or Angle2 or Angle3 \n",
    "if All_Angles == 180:\n",
    "    if Right_Angle == 90:\n",
    "        print(f\"{All_Angles}°, is a triangle\")\n",
    "    else:\n",
    "        print(f\"{Right_Angle}° is a right angled triangle\")\n",
    "               \n",
    "else:\n",
    "    print(f\"{All_Angles}°, is not a triangle\")\n",
    "   "
   ]
  },
  {
   "cell_type": "code",
   "execution_count": 27,
   "metadata": {},
   "outputs": [
    {
     "name": "stdout",
     "output_type": "stream",
     "text": [
      "This is a right-angled triangle.\n"
     ]
    }
   ],
   "source": [
    "# Ask the user to input three angles\n",
    "angle1 = float(input(\"Enter the first angle of the triangle: \"))\n",
    "angle2 = float(input(\"Enter the second angle of the triangle: \"))\n",
    "angle3 = float(input(\"Enter the third angle of the triangle: \"))\n",
    "\n",
    "# Check if the angles are valid (they should add up to 180 degrees)\n",
    "if angle1 + angle2 + angle3 == 180:\n",
    "    # Check if any of the angles is 90 degrees\n",
    "    if angle1 == 90 or angle2 == 90 or angle3 == 90:\n",
    "        print(\"This is a right-angled triangle.\")\n",
    "    else:\n",
    "        print(\"This is not a right-angled triangle.\")\n",
    "else:\n",
    "    print(\"The angles do not form a valid triangle.\")\n"
   ]
  },
  {
   "cell_type": "code",
   "execution_count": null,
   "metadata": {},
   "outputs": [],
   "source": [
    "# Ask the user to input three angles\n",
    "angle1 = float(input(\"Enter the first angle of the triangle: \"))\n",
    "angle2 = float(input(\"Enter the second angle of the triangle: \"))\n",
    "angle3 = float(input(\"Enter the third angle of the triangle: \"))\n",
    "\n",
    "# Check if the angles are valid (they should add up to 180 degrees)\n",
    "if angle1 + angle2 + angle3 == 180:\n",
    "    # Check if any of the angles is 90 degrees\n",
    "    if angle1 == 90 or angle2 == 90 or angle3 == 90:\n",
    "        print(\"This is a right-angled triangle.\")\n",
    "    else:\n",
    "        print(\"This is not a right-angled triangle.\")\n",
    "else:\n",
    "    print(\"The angles do not form a valid triangle.\")\n"
   ]
  },
  {
   "cell_type": "markdown",
   "metadata": {},
   "source": [
    "----\n",
    "## 4. Medicine (*)\n",
    "\n",
    "The information in the following table is stated in a medicine package. Also it is stated that for children weight is more important than age.\n",
    "\n",
    "<table align=\"left\">\n",
    "<thead>\n",
    "    <tr>\n",
    "        <th></th>\n",
    "        <th>Age</th>\n",
    "        <th>Number of pills</th>\n",
    "    </tr>\n",
    "</thead>\n",
    "\n",
    "<tbody>\n",
    "  <tr>\n",
    "    <td>Adults & adolescent <br>over 40 kg</td>\n",
    "    <td>over 12 years</td>\n",
    "    <td>1-2</td>\n",
    "  </tr>\n",
    "\n",
    "  <tr>\n",
    "    <td>Children 26-40 kg</td>\n",
    "    <td>7-12 years</td>\n",
    "    <td>1/2-1</td>\n",
    "  </tr>\n",
    "\n",
    "  <tr>\n",
    "    <td>Children 15-25 kg</td>\n",
    "    <td>3-7 years</td>\n",
    "    <td>1/2</td>\n",
    "  </tr>\n",
    "</tbody>\n",
    "</table>"
   ]
  },
  {
   "cell_type": "markdown",
   "metadata": {},
   "source": [
    "Let the user input an **age** and a **weight**, the program should recommend the number of pills for the user."
   ]
  },
  {
   "cell_type": "markdown",
   "metadata": {},
   "source": [
    "## Solution:\n",
    "\n",
    "First we want the user age and second theur weight. Also we know that for children the weight is more impportan than age. So anyone over 40 kg is an adult \n",
    "\n",
    "### Ask useer to enter age \n",
    "### Second ask user to enter weight \n",
    "### Third define who's a child or an adult  \n",
    "\n",
    "#if you'äre an child weighing less then 15kg you can't take the medecine \n",
    "#if your a child weighing 15 to 25 take....\n",
    "#if  your a child weighing 26 -40 take this\n",
    "\n",
    ":else your an adult: \n",
    "                    take....\n",
    "\n",
    "    "
   ]
  },
  {
   "cell_type": "code",
   "execution_count": 39,
   "metadata": {},
   "outputs": [
    {
     "name": "stdout",
     "output_type": "stream",
     "text": [
      "You're child (10.0 kg), you should take 1/2 - 1 pill\n"
     ]
    }
   ],
   "source": [
    "# Firts ask the user to enter the age of the user of the medicine. \n",
    "\n",
    "Age = int(input(\"Enter the recepient of the medcines age:\")) \n",
    "\n",
    "# Second ask the user to enter the weight of the user of the medicine. \n",
    "\n",
    "Weight = float(input(\"Enter the recepients weight:\"))\n",
    "\n",
    "# Define what's an adult vs child by weight and age for adult create .\n",
    "\n",
    "if Age > 12 and Weight > 40: \n",
    "    print(f\"You're an adult/adolecent ({Age} years & {Weight} kg), you should take 1-2 pills\")\n",
    "elif Weight <= 40 or Weight >= 26 and Age < 13:\n",
    "    print(f\"You're child ({Weight} kg), you should take 1/2 - 1 pill\")\n",
    "elif Weight <= 25 or Weight >= 15 and Age < 13:\n",
    "    print(f\"You're child ({Weight} kg), you should take 1/2 pill\")\n",
    "\n",
    "else: \n",
    "    print(f\"you're weight is {Weight} and sand are note recommemnded to take any pills\") "
   ]
  },
  {
   "cell_type": "markdown",
   "metadata": {},
   "source": [
    "---\n",
    "## 5. Divisible (*)\n",
    "Let the user input a number. Check if the number is\n",
    "<ol type=\"a\">\n",
    "  <li>even or odd</li>\n",
    "  <li>is divisible by 5</li>\n",
    "  <li>is divisble by 5 and odd</li>\n",
    "</ol> "
   ]
  },
  {
   "cell_type": "markdown",
   "metadata": {},
   "source": [
    "### a) \n",
    "First we need to ask the user to input a number. \n",
    "Second check if that number is even or odd by running modulo operator.\n",
    "Third check if that number is divisible by 5 by.\n",
    "fourth if that number is divisble by 5 and odd"
   ]
  },
  {
   "cell_type": "code",
   "execution_count": null,
   "metadata": {},
   "outputs": [],
   "source": []
  },
  {
   "cell_type": "code",
   "execution_count": 51,
   "metadata": {},
   "outputs": [
    {
     "name": "stdout",
     "output_type": "stream",
     "text": [
      "The 6754 is even\n",
      "The 6754 is not divisble by 5\n",
      "The 6754 is not divisble by 5 and is even\n"
     ]
    }
   ],
   "source": [
    "# Ask the user to input a number\n",
    "\n",
    "Number = int(input(\"Enter any number to test wheter it is odd or even:\"))\n",
    "\n",
    "# Check if the input number is even or odd\n",
    "\n",
    "if (Number % 2) == 0:\n",
    "    print(f\"The {Number} is even\")\n",
    "else:\n",
    "    print(f\"The {Number} is odd\")\n",
    "\n",
    "# Check if the input number is divisble by 5\n",
    "\n",
    "if (Number % 5) == 0:\n",
    "    print(f\"The {Number} is divisble by 5\")\n",
    "else:\n",
    "    print(f\"The {Number} is not divisble by 5\")\n",
    "\n",
    "# Check if the input number is divisable by 5 and odd\n",
    "\n",
    "if (Number % 5) == 0 and (Number % 2) != 0:\n",
    "     print(f\"The {Number} is divisble by 5 and odd\")\n",
    "else:\n",
    "    print(f\"The {Number} is not divisble by 5 and is even\")"
   ]
  },
  {
   "cell_type": "markdown",
   "metadata": {},
   "source": [
    "---\n",
    "## 6. Luggage size (*)\n",
    "\n",
    "The maximum allowed luggage size for boarding an airplane is: \n",
    "- weight: 8kg\n",
    "- dimensions: 55x40x23cm (length x width x height) \n",
    "\n",
    "Let the user input weight, length, width and height of the luggage. The program should check if the luggage is allowed or not."
   ]
  },
  {
   "cell_type": "markdown",
   "metadata": {},
   "source": [
    "## Solution:"
   ]
  },
  {
   "cell_type": "code",
   "execution_count": 65,
   "metadata": {},
   "outputs": [
    {
     "name": "stdout",
     "output_type": "stream",
     "text": [
      "The (9.0 kg) is not allowed it must be maximum 8 kg\n",
      "The dimensions of your lagguage ((56.0, 41.0, 24.0) cm) exceed the approved dimension of (55 x 40 x 23 cm)\n"
     ]
    }
   ],
   "source": [
    "# Ask user to input weight, length, width and heigth of luggage.\n",
    "\n",
    "Weight = float(input(\"Please enter the weight of your luggage in kg:\"))\n",
    "Length = float(input(\"Please enter the length of your luggage in cm:\"))\n",
    "Width = float(input(\"Please enter the width of your luggage in cm:\"))\n",
    "Height = float(input(\"Please enter the height of your luggage in cm:\"))\n",
    "\n",
    "# Create a variable that holds luggage dimensions \n",
    "\n",
    "Dim_lug = (Length, Width, Height)\n",
    "\n",
    "# Check if input exceed luggage restrictions  \n",
    "\n",
    "if Weight > 8 or Length > 55 or Width > 40 or Height > 23:\n",
    "    print(f\"The ({Weight} kg) is not allowed it must be maximum 8 kg\")\n",
    "    print(f\"The dimensions of your lagguage ({Length, Width, Height} cm) exceed the approved dimension of (55 x 40 x 23 cm)\")\n",
    "else:\n",
    "    print(f\"Your luggage {Weight}, kg and {Dim_lug}, cm is allowed\")\n"
   ]
  },
  {
   "cell_type": "markdown",
   "metadata": {},
   "source": [
    "---\n",
    "\n",
    "pr0fez Giang\n",
    "\n",
    "[LinkedIn][linkedIn_pr0fez]\n",
    "\n",
    "[GitHub portfolio][github_portfolio]\n",
    "\n",
    "[linkedIn_pr0fez]: https://www.linkedin.com/in/pr0fezgiang/\n",
    "[github_portfolio]: https://github.com/pr0fez/Portfolio-pr0fez-Giang\n",
    "\n",
    "---"
   ]
  }
 ],
 "metadata": {
  "kernelspec": {
   "display_name": "Python 3.9.6 64-bit",
   "language": "python",
   "name": "python3"
  },
  "language_info": {
   "codemirror_mode": {
    "name": "ipython",
    "version": 3
   },
   "file_extension": ".py",
   "mimetype": "text/x-python",
   "name": "python",
   "nbconvert_exporter": "python",
   "pygments_lexer": "ipython3",
   "version": "3.12.5"
  },
  "orig_nbformat": 4,
  "vscode": {
   "interpreter": {
    "hash": "0da836a34428266995a795f1e1e27b816fa1c02f148d9728b3fbbbc5459afca6"
   }
  }
 },
 "nbformat": 4,
 "nbformat_minor": 2
}
