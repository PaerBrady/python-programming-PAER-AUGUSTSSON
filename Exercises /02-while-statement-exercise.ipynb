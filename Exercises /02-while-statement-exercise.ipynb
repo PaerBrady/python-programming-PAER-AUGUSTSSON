{
 "cells": [
  {
   "cell_type": "markdown",
   "metadata": {},
   "source": [
    "<a href=\"https://colab.research.google.com/github/pr0fez/AI24-Programmering/blob/master/Exercises/02-while-statement-exercise.ipynb\" target=\"_parent\"><img align=\"left\" src=\"https://colab.research.google.com/assets/colab-badge.svg\" alt=\"Open In Colab\"/></a> &nbsp; to see hints and answers."
   ]
  },
  {
   "cell_type": "markdown",
   "metadata": {},
   "source": [
    "# while statement exercises\n",
    "\n",
    "---\n",
    "These are introductory exercises in Python with focus in **while** statement.\n",
    "\n",
    "<p class = \"alert alert-info\" role=\"alert\"><b>Remember</b> to use <b>descriptive variable names</b> in order to get readable code </p>\n",
    "\n",
    "<p class = \"alert alert-info\" role=\"alert\"><b>Remember</b> to format your answers in a neat way using <b>f-strings</b>\n",
    "\n",
    "<p class = \"alert alert-info\" role=\"alert\"><b>Remember</b> to format your input questions in a pedagogical way to guide the user\n",
    "\n",
    "The number of stars (\\*), (\\*\\*), (\\*\\*\\*) denotes the difficulty level of the task\n",
    "\n",
    "---"
   ]
  },
  {
   "cell_type": "markdown",
   "metadata": {},
   "source": [
    "## 1. Count numbers (*)\n",
    "\n",
    "Use a **while** statement to count from -10 to 10 with one increment. \n",
    "\n",
    "<details>\n",
    "\n",
    "<summary>Hint </summary>\n",
    "\n",
    "```python\n",
    "\n",
    "i += 1 # adds one and assigns it to i, equivalent to i = i + 1\n",
    "```\n",
    "\n",
    "</details>\n",
    "<br>\n",
    "<details>\n",
    "\n",
    "<summary>Answer </summary>\n",
    "\n",
    "```\n",
    "\n",
    "-10 -9 -8 -7 -6 -5 -4 -3 -2 -1 0 1 2 3 4 5 6 7 8 9 10\n",
    "```\n",
    "\n",
    "</details>\n"
   ]
  },
  {
   "cell_type": "markdown",
   "metadata": {},
   "source": [
    "### Solution:\n",
    "    "
   ]
  },
  {
   "cell_type": "code",
   "execution_count": null,
   "metadata": {},
   "outputs": [],
   "source": [
    "i = -10\n",
    "while (i <= 10):\n",
    "    print(i, end=\" \")\n",
    "    i = i + 1"
   ]
  },
  {
   "cell_type": "markdown",
   "metadata": {},
   "source": [
    "--- \n",
    "## 2. Arithmetic sum (*)\n",
    "Use a **while** statement to compute the following sums: \n",
    "\n",
    "&nbsp; a) &nbsp; $\\text{sum} = 1 + 2 + \\ldots + 99+ 100$\n",
    "\n",
    "&nbsp; b) &nbsp; $\\text{sum} = 1 + 3 + 5 + \\ldots + 97 + 99$\n",
    "\n",
    "<details>\n",
    "\n",
    "<summary>Answer </summary>\n",
    "\n",
    "```\n",
    "a) 1 + 2 + ... + 99 + 100 = 5050 \n",
    "\n",
    "b) 1 + 3 + 5 +...+ 97 + 99 = 2500\n",
    "```\n",
    "\n",
    "</details>"
   ]
  },
  {
   "cell_type": "code",
   "execution_count": null,
   "metadata": {},
   "outputs": [],
   "source": [
    "x = 1\n",
    "sum = 0\n",
    "while x <= 100:\n",
    "    sum = sum + x\n",
    "    x = x + 1\n",
    "print(\"Sum:\", sum)\n"
   ]
  },
  {
   "cell_type": "code",
   "execution_count": null,
   "metadata": {},
   "outputs": [],
   "source": [
    "x = 1\n",
    "sum = 0\n",
    "while x <= 100:\n",
    "    sum = sum + x\n",
    "    x = x + 2\n",
    "print(\"Sum:\", sum)\n"
   ]
  },
  {
   "cell_type": "markdown",
   "metadata": {},
   "source": [
    "--- \n",
    "## 3. Guess number game (*)\n",
    "&nbsp; a) &nbsp; Create a guessing number game following this flow chart: \n",
    "\n",
    "<img align=\"left\" src=\"../assets/guessing_game.png\" width=\"300\"/>"
   ]
  },
  {
   "cell_type": "markdown",
   "metadata": {},
   "source": [
    "### Solution:\n",
    "Randomize an integer (1: 100)\n",
    "user input random number between 1-100\n",
    "check user input if correct\n",
    "if right feedback user\n",
    "if wrong feedback user, with hint and increment guesses "
   ]
  },
  {
   "cell_type": "code",
   "execution_count": 1,
   "metadata": {},
   "outputs": [],
   "source": [
    "# Generate a random number bewtween 1-100.\n",
    "import random\n",
    "random_number = random.randint(1, 100)\n",
    "\n",
    "# Count the number of guesses.\n",
    "count_guesses = 0\n",
    "\n",
    "# Maximum number of guesses.\n",
    "max_guesses = 10\n",
    "\n",
    "# Give instructions of the game to user and limitations in number of guesses. \n",
    "\n",
    "print(f\"Du ska nu gissa på ett tal mellan 1 och 100. Du får {max_guesses} försök, lycka till: \")\n",
    "\n",
    "# Repeat until the user guesses the correct number or reaches the maximum number of guesses.\n",
    "while count_guesses < max_guesses:\n",
    "  \n",
    "    # Show the user how many guesses are left.\n",
    "    guesses_left = max_guesses - count_guesses\n",
    "  \n",
    "    # Ask the user to guess a number between 1-100.\n",
    "    user_number = input(f'Du har {guesses_left} gissningar kvar. Skriv in ett tal: ')\n",
    "    \n",
    "    # Convert user data into integer.\n",
    "    try: user_number = int(user_number)\n",
    "    \n",
    "    # Exclude non integer data and show an error message.\n",
    "    except ValueError:\n",
    "        print('Ogiltig inmatning! Du måste skriva in ett heltal mellan 1 och 100. ')\n",
    "        continue\n",
    "    \n",
    "    # Check if user_number is between 1-100.\n",
    "    if user_number < 1 or user_number > 100:\n",
    "        print('Ogiltig inmatning! Talet måste vara mellan 1 och 100.')\n",
    "        continue \n",
    "\n",
    "    # Increase the number of guesses by 1.\n",
    "    count_guesses += 1\n",
    "    \n",
    "    # Check if the user guessed the correct number and give feedback and quit loop.\n",
    "    if user_number == random_number: \n",
    "        print('Grattis du gissade rätt nummer!')\n",
    "        break\n",
    "\n",
    "    # Check if user number is smaller then random number and if that difference is <=3. Give the user feedback. \n",
    "    elif user_number < random_number:\n",
    "      if random_number - user_number <= 3:\n",
    "          print('Tyvärr ditt tal var för lågt, men du är riktigt nära.')\n",
    "      else:\n",
    "          print('Tyvärr ditt tal var för lågt.')\n",
    "    # Check if user number is greater then random number and if that difference is <=3. Give the user feedback. \n",
    "    elif user_number > random_number:\n",
    "      if user_number - random_number <= 3:\n",
    "          print('Tyvärr ditt tal var för högt, men du är riktigt nära.')\n",
    "      else:\n",
    "          print('Ditt tal var för högt.')\n",
    "    \n",
    "    # If number is not between 1-100 show an error message.\n",
    "    else:\n",
    "      print('Du skrev in ett ogiltigt tal, talet måste vara mellan 1-100.')\n",
    "  \n",
    "  # If the user reached the maximum number of guesses, end the game.\n",
    "    if count_guesses == max_guesses and user_number != random_number:\n",
    "        print('Du har använt alla dina gissningar.')\n",
    "        print(f'Det rätta talet var: {random_number}')\n",
    "   \n",
    "# Tell user program has ended an dask them to press enter to continue.\n",
    "input('Gissa numret är slut. Tack för att du deltog. Tryck enter för att avsluta.')\n",
    "print('Programmet är avslutat.')"
   ]
  },
  {
   "cell_type": "markdown",
   "metadata": {},
   "source": [
    "&nbsp; b) &nbsp; Make an algorithm to automatically guess the correct number. Can you optimize to get as few guesses as possible? (**)\n",
    "\n",
    "<details>\n",
    "\n",
    "<summary>Hint </summary>\n",
    "\n",
    "&nbsp; b) &nbsp; Half your testing number each time \n",
    "\n",
    "</details>"
   ]
  },
  {
   "cell_type": "code",
   "execution_count": 2,
   "metadata": {},
   "outputs": [
    {
     "name": "stdout",
     "output_type": "stream",
     "text": [
      "Välkommen till Gissa talet!\n",
      "***************************\n",
      "Du ska nu gissa på ett tal mellan 1 och 100. Du får 10 försök, lycka till: \n"
     ]
    },
    {
     "ename": "KeyboardInterrupt",
     "evalue": "Interrupted by user",
     "output_type": "error",
     "traceback": [
      "\u001b[0;31m---------------------------------------------------------------------------\u001b[0m",
      "\u001b[0;31mKeyboardInterrupt\u001b[0m                         Traceback (most recent call last)",
      "Cell \u001b[0;32mIn[2], line 23\u001b[0m\n\u001b[1;32m     20\u001b[0m guesses_left \u001b[38;5;241m=\u001b[39m max_guesses \u001b[38;5;241m-\u001b[39m count_guesses\n\u001b[1;32m     22\u001b[0m \u001b[38;5;66;03m# Ask the user to guess a number between 1-100.\u001b[39;00m\n\u001b[0;32m---> 23\u001b[0m user_number \u001b[38;5;241m=\u001b[39m \u001b[38;5;28;43minput\u001b[39;49m\u001b[43m(\u001b[49m\u001b[38;5;124;43mf\u001b[39;49m\u001b[38;5;124;43m'\u001b[39;49m\u001b[38;5;124;43mDu har \u001b[39;49m\u001b[38;5;132;43;01m{\u001b[39;49;00m\u001b[43mguesses_left\u001b[49m\u001b[38;5;132;43;01m}\u001b[39;49;00m\u001b[38;5;124;43m gissningar kvar. Skriv in ett tal: \u001b[39;49m\u001b[38;5;124;43m'\u001b[39;49m\u001b[43m)\u001b[49m\n\u001b[1;32m     25\u001b[0m \u001b[38;5;66;03m# Convert user data into integer.\u001b[39;00m\n\u001b[1;32m     26\u001b[0m \u001b[38;5;28;01mtry\u001b[39;00m: \n",
      "File \u001b[0;32m~/Library/Python/3.12/lib/python/site-packages/ipykernel/kernelbase.py:1282\u001b[0m, in \u001b[0;36mKernel.raw_input\u001b[0;34m(self, prompt)\u001b[0m\n\u001b[1;32m   1280\u001b[0m     msg \u001b[38;5;241m=\u001b[39m \u001b[38;5;124m\"\u001b[39m\u001b[38;5;124mraw_input was called, but this frontend does not support input requests.\u001b[39m\u001b[38;5;124m\"\u001b[39m\n\u001b[1;32m   1281\u001b[0m     \u001b[38;5;28;01mraise\u001b[39;00m StdinNotImplementedError(msg)\n\u001b[0;32m-> 1282\u001b[0m \u001b[38;5;28;01mreturn\u001b[39;00m \u001b[38;5;28;43mself\u001b[39;49m\u001b[38;5;241;43m.\u001b[39;49m\u001b[43m_input_request\u001b[49m\u001b[43m(\u001b[49m\n\u001b[1;32m   1283\u001b[0m \u001b[43m    \u001b[49m\u001b[38;5;28;43mstr\u001b[39;49m\u001b[43m(\u001b[49m\u001b[43mprompt\u001b[49m\u001b[43m)\u001b[49m\u001b[43m,\u001b[49m\n\u001b[1;32m   1284\u001b[0m \u001b[43m    \u001b[49m\u001b[38;5;28;43mself\u001b[39;49m\u001b[38;5;241;43m.\u001b[39;49m\u001b[43m_parent_ident\u001b[49m\u001b[43m[\u001b[49m\u001b[38;5;124;43m\"\u001b[39;49m\u001b[38;5;124;43mshell\u001b[39;49m\u001b[38;5;124;43m\"\u001b[39;49m\u001b[43m]\u001b[49m\u001b[43m,\u001b[49m\n\u001b[1;32m   1285\u001b[0m \u001b[43m    \u001b[49m\u001b[38;5;28;43mself\u001b[39;49m\u001b[38;5;241;43m.\u001b[39;49m\u001b[43mget_parent\u001b[49m\u001b[43m(\u001b[49m\u001b[38;5;124;43m\"\u001b[39;49m\u001b[38;5;124;43mshell\u001b[39;49m\u001b[38;5;124;43m\"\u001b[39;49m\u001b[43m)\u001b[49m\u001b[43m,\u001b[49m\n\u001b[1;32m   1286\u001b[0m \u001b[43m    \u001b[49m\u001b[43mpassword\u001b[49m\u001b[38;5;241;43m=\u001b[39;49m\u001b[38;5;28;43;01mFalse\u001b[39;49;00m\u001b[43m,\u001b[49m\n\u001b[1;32m   1287\u001b[0m \u001b[43m\u001b[49m\u001b[43m)\u001b[49m\n",
      "File \u001b[0;32m~/Library/Python/3.12/lib/python/site-packages/ipykernel/kernelbase.py:1325\u001b[0m, in \u001b[0;36mKernel._input_request\u001b[0;34m(self, prompt, ident, parent, password)\u001b[0m\n\u001b[1;32m   1322\u001b[0m \u001b[38;5;28;01mexcept\u001b[39;00m \u001b[38;5;167;01mKeyboardInterrupt\u001b[39;00m:\n\u001b[1;32m   1323\u001b[0m     \u001b[38;5;66;03m# re-raise KeyboardInterrupt, to truncate traceback\u001b[39;00m\n\u001b[1;32m   1324\u001b[0m     msg \u001b[38;5;241m=\u001b[39m \u001b[38;5;124m\"\u001b[39m\u001b[38;5;124mInterrupted by user\u001b[39m\u001b[38;5;124m\"\u001b[39m\n\u001b[0;32m-> 1325\u001b[0m     \u001b[38;5;28;01mraise\u001b[39;00m \u001b[38;5;167;01mKeyboardInterrupt\u001b[39;00m(msg) \u001b[38;5;28;01mfrom\u001b[39;00m \u001b[38;5;28;01mNone\u001b[39;00m\n\u001b[1;32m   1326\u001b[0m \u001b[38;5;28;01mexcept\u001b[39;00m \u001b[38;5;167;01mException\u001b[39;00m:\n\u001b[1;32m   1327\u001b[0m     \u001b[38;5;28mself\u001b[39m\u001b[38;5;241m.\u001b[39mlog\u001b[38;5;241m.\u001b[39mwarning(\u001b[38;5;124m\"\u001b[39m\u001b[38;5;124mInvalid Message:\u001b[39m\u001b[38;5;124m\"\u001b[39m, exc_info\u001b[38;5;241m=\u001b[39m\u001b[38;5;28;01mTrue\u001b[39;00m)\n",
      "\u001b[0;31mKeyboardInterrupt\u001b[0m: Interrupted by user"
     ]
    }
   ],
   "source": [
    "# Generate a random number bewtween 1-100.\n",
    "import random\n",
    "random_number = random.randint(1, 100)\n",
    "\n",
    "# Count the number of guesses.\n",
    "count_guesses = 0\n",
    "\n",
    "# Maximum number of guesses.\n",
    "max_guesses = 10\n",
    "\n",
    "# Greet the user to the program.\n",
    "print('Välkommen till Gissa talet!')\n",
    "print('***************************')\n",
    "print(f'Du ska nu gissa på ett tal mellan 1 och 100. Du får {max_guesses} försök, lycka till: ')\n",
    "\n",
    "# Repeat until the user guesses the correct number or reaches the maximum number of guesses.\n",
    "while count_guesses < max_guesses:\n",
    "  \n",
    "    # Show the user how many guesses are left.\n",
    "    guesses_left = max_guesses - count_guesses\n",
    "  \n",
    "    # Ask the user to guess a number between 1-100.\n",
    "    user_number = input(f'Du har {guesses_left} gissningar kvar. Skriv in ett tal: ')\n",
    "    \n",
    "    # Convert user data into integer.\n",
    "    try: \n",
    "        user_number = int(user_number)\n",
    "    \n",
    "    # Exclude non integer data and show an error message.\n",
    "    except ValueError:\n",
    "        print('Ogiltig inmatning! Du måste skriva in ett heltal mellan 1 och 100. ')\n",
    "        continue\n",
    "    \n",
    "    # Check if user_number is between 1-100.\n",
    "    if user_number < 1 or user_number > 100:\n",
    "        print('Ogiltig inmatning! Talet måste vara mellan 1 och 100.')\n",
    "        continue \n",
    "\n",
    "    # Increase the number of guesses by 1.\n",
    "    count_guesses += 1\n",
    "    \n",
    "    # Check if the user guessed the correct number and give feedback and quit loop.\n",
    "    if user_number == random_number: \n",
    "        print('Grattis du gissade rätt nummer!')\n",
    "        break\n",
    "\n",
    "    # Check if user number is smaller then random number and if that difference is <=3. Give the user feedback. \n",
    "    elif user_number < random_number:\n",
    "      if random_number - user_number <= 3:\n",
    "          print('Tyvärr ditt tal var för lågt, men du är riktigt nära.')\n",
    "      else:\n",
    "          print('Tyvärr ditt tal var för lågt.')\n",
    "    # Check if user number is greater then random number and if that difference is <=3. Give the user feedback. \n",
    "    elif user_number > random_number:\n",
    "      if user_number - random_number <= 3:\n",
    "          print('Tyvärr ditt tal var för högt, men du är riktigt nära.')\n",
    "      else:\n",
    "          print('Ditt tal var för högt.')\n",
    "    \n",
    "    # If number is not between 1-100 show an error message.\n",
    "    else:\n",
    "      print('Du skrev in ett ogiltigt tal, talet måste vara mellan 1-100.')\n",
    "  \n",
    "  # If the user reached the maximum number of guesses, end the game.\n",
    "    if count_guesses == max_guesses and user_number != random_number:\n",
    "        print('Du har använt alla dina gissningar.')\n",
    "        print(f'Det rätta talet var: {random_number}')\n",
    "\n",
    "   \n",
    "# Tell user program has ended an dask them to press enter to continue.\n",
    "input('Gissa numret är slut. Tack för att du deltog. Tryck enter för att avsluta.')\n",
    "print('Programmet är avslutat.')"
   ]
  },
  {
   "cell_type": "markdown",
   "metadata": {},
   "source": [
    "--- \n",
    "## 4. Multiplication game (*)\n",
    "&nbsp; a) &nbsp; Create a multiplication game following this flow chart: \n",
    "\n",
    "<img align=\"left\" src=\"../assets/Multiplication_game.png\" width=\"300\"/>"
   ]
  },
  {
   "cell_type": "markdown",
   "metadata": {},
   "source": [
    "### Solution:\n",
    "\n",
    "First create a random number\n",
    "Second set \n",
    "\n"
   ]
  },
  {
   "cell_type": "code",
   "execution_count": 29,
   "metadata": {},
   "outputs": [
    {
     "name": "stdout",
     "output_type": "stream",
     "text": [
      "7 x 4 = 28 you answered corect, congratulation, \n"
     ]
    }
   ],
   "source": [
    "\n",
    "import random\n",
    "\n",
    "def play_again():\n",
    "        while True:\n",
    "                answer = input(\"do you want to try again\")\n",
    "\n",
    "\n",
    "while True:\n",
    "        X = random.randint(1, 10)\n",
    "        Y = random.randint(1, 10)\n",
    "        Right_Answer = X * Y\n",
    "                \n",
    "        User_Answer = int(input(f\"Solve following multiplaction: {X} x {Y}, good luck:\"))\n",
    "        if User_Answer == Right_Answer:\n",
    "                print(f\"{X} x {Y} = {Right_Answer} you answered corect, congratulation, \")\n",
    "                        \n",
    "        else: \n",
    "                print(f\"Wrong! You guessed {User_Answer} the right answer is {Right_Answer}\")\n",
    "        break"
   ]
  },
  {
   "cell_type": "code",
   "execution_count": 31,
   "metadata": {},
   "outputs": [
    {
     "name": "stdout",
     "output_type": "stream",
     "text": [
      "Grattis du gissade rätt!\n",
      "Grattis du gissade rätt!\n",
      "Tack för att du spelade!\n"
     ]
    }
   ],
   "source": [
    "import random\n",
    "\n",
    "def spela_igen():\n",
    "    while True:\n",
    "        svar = input(\"Vill du spela igen? (ja/nej): \").lower()\n",
    "        if svar in ['ja', 'j']:\n",
    "            return True\n",
    "        elif svar in ['nej', 'n']:\n",
    "            return False\n",
    "        else:\n",
    "            print(\"Vänligen svara 'ja' eller 'nej'.\")\n",
    "\n",
    "def multiplikationsspel():\n",
    "    while True:\n",
    "        # Generera två slumpmässiga tal mellan 1 och 10\n",
    "        tal1 = random.randint(1, 10)\n",
    "        tal2 = random.randint(1, 10)\n",
    "        \n",
    "        # Räkna ut det korrekta svaret\n",
    "        korrekt_svar = tal1 * tal2\n",
    "        \n",
    "        # Fråga användaren\n",
    "        användar_svar = int(input(f\"Vad är {tal1} * {tal2}? \"))\n",
    "        \n",
    "        # Kontrollera om svaret är rätt eller fel\n",
    "        if användar_svar == korrekt_svar:\n",
    "            print(\"Grattis du gissade rätt!\")\n",
    "        else:\n",
    "            print(f\"Du gissade fel. Rätt svar är {korrekt_svar}.\")\n",
    "        \n",
    "        # Fråga om användaren vill spela igen\n",
    "        if not spela_igen():\n",
    "            print(\"Tack för att du spelade!\")\n",
    "            break\n",
    "\n",
    "# Starta spelet\n",
    "multiplikationsspel()\n"
   ]
  },
  {
   "cell_type": "markdown",
   "metadata": {},
   "source": [
    "#### Example of solution for a simmular game:\n",
    "Code below from:https://youtu.be/1PDyuk84icQ?si=q4zjzBzNtIoAYQzJ "
   ]
  },
  {
   "cell_type": "code",
   "execution_count": null,
   "metadata": {},
   "outputs": [],
   "source": [
    "\n",
    "import time\n",
    "import functools\n",
    "import operator\n",
    "import random\n",
    "import math\n",
    "\n",
    "print('Number Time quiz!')\n",
    "time.sleep(2)\n",
    "print('Answer the multiplcation problems before time runs out!')\n",
    "time.sleep(3)\n",
    "print('Ready? Go!')\n",
    "start_time = time.time()\n",
    "\n",
    "score = 0\n",
    "\n",
    "\n",
    "while True:\n",
    "    difficulty_setting = 2\n",
    "    difficulty_progression = math.floor(score/10)\n",
    "    overall_difficulty = difficulty_setting + difficulty_progression\n",
    "\n",
    "    numbers_list = []\n",
    "    for x in range(overall_difficulty):\n",
    "        value = random.randint(1,9)\n",
    "        numbers_list.append(value)\n",
    "\n",
    "    answer = functools.reduce(operator.mul, numbers_list, 1)\n",
    "    print('Multiple these numbers', numbers_list)\n",
    "\n",
    "    guess = int(input())\n",
    "\n",
    "    if guess == answer:\n",
    "        score = score + (1 * overall_difficulty)\n",
    "        continue\n",
    "\n",
    "    else:\n",
    "        print('Game over! The answer was', answer)\n",
    "        elapsed_time = time.time() - start_time\n",
    "        print('Your score was', score, 'In only', elapsed_time)\n",
    "        break"
   ]
  },
  {
   "cell_type": "markdown",
   "metadata": {},
   "source": [
    "&nbsp; b) &nbsp; Add a menu for choosing difficulty level of the game\n",
    "\n",
    "&nbsp; c) &nbsp; Feel free to extend this program with features of your choice."
   ]
  },
  {
   "cell_type": "code",
   "execution_count": null,
   "metadata": {},
   "outputs": [],
   "source": []
  },
  {
   "cell_type": "markdown",
   "metadata": {},
   "source": [
    "--- \n",
    "## 5. Check convergence (**)\n",
    "Use a while statement to compute the following sums: \n",
    "\n",
    "&nbsp; a) &nbsp; $\\text{sum} = 1 + \\frac{1}{2} + \\frac{1}{4} + \\frac{1}{8} + \\dots + \\frac{1}{2^n}$\n",
    "\n",
    "&nbsp; b) &nbsp; $\\text{sum} = 1 - \\frac{1}{3} + \\frac{1}{5} - \\frac{1}{7} + \\dots + \\frac{(-1)^n}{2n+1}$\n",
    "\n",
    "Try different values on $n$ to see which value it converges to.\n",
    "\n",
    "<details>\n",
    "\n",
    "<summary>Answer </summary>\n",
    "\n",
    "&nbsp; a) &nbsp; $1 + \\frac{1}{2} + \\frac{1}{4} + \\frac{1}{8} + \\dots + \\frac{1}{2^n} \\xrightarrow[n\\rightarrow \\infty]{} 2$ \n",
    "\n",
    "&nbsp; b) &nbsp; $ 1 - \\frac{1}{3} + \\frac{1}{5} - \\frac{1}{7} + \\dots + \\frac{(-1)^n}{2n+1} \\xrightarrow[n\\rightarrow \\infty]{} \\frac{\\pi}{4}$\n",
    "\n",
    "</details>"
   ]
  },
  {
   "cell_type": "markdown",
   "metadata": {},
   "source": [
    "---\n",
    "\n",
    "pr0fez Giang\n",
    "\n",
    "[LinkedIn][linkedIn_pr0fez]\n",
    "\n",
    "[GitHub portfolio][github_portfolio]\n",
    "\n",
    "[linkedIn_pr0fez]: https://www.linkedin.com/in/pr0fezgiang/\n",
    "[github_portfolio]: https://github.com/pr0fez/Portfolio-pr0fez-Giang\n",
    "\n",
    "---"
   ]
  }
 ],
 "metadata": {
  "kernelspec": {
   "display_name": "Python 3.9.6 64-bit",
   "language": "python",
   "name": "python3"
  },
  "language_info": {
   "codemirror_mode": {
    "name": "ipython",
    "version": 3
   },
   "file_extension": ".py",
   "mimetype": "text/x-python",
   "name": "python",
   "nbconvert_exporter": "python",
   "pygments_lexer": "ipython3",
   "version": "3.12.5"
  },
  "orig_nbformat": 4,
  "vscode": {
   "interpreter": {
    "hash": "0da836a34428266995a795f1e1e27b816fa1c02f148d9728b3fbbbc5459afca6"
   }
  }
 },
 "nbformat": 4,
 "nbformat_minor": 2
}
