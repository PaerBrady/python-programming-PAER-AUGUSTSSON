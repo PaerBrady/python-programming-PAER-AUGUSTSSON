{
 "cells": [
  {
   "cell_type": "markdown",
   "metadata": {},
   "source": [
    "<a href=\"https://colab.research.google.com/github/pr0fez/AI24-Programmering/blob/master/Exercises/03-for-statement-exercise.ipynb\" target=\"_parent\"><img align=\"left\" src=\"https://colab.research.google.com/assets/colab-badge.svg\" alt=\"Open In Colab\"/></a> &nbsp; to see hints and answers."
   ]
  },
  {
   "cell_type": "markdown",
   "metadata": {},
   "source": [
    "# for statement exercises\n",
    "\n",
    "---\n",
    "These are introductory exercises in Python with focus in **for** statement.\n",
    "\n",
    "<p class = \"alert alert-info\" role=\"alert\"><b>Remember</b> to use <b>descriptive variable names</b> in order to get readable code </p>\n",
    "\n",
    "<p class = \"alert alert-info\" role=\"alert\"><b>Remember</b> to format your answers in a neat way using <b>f-strings</b>\n",
    "\n",
    "<p class = \"alert alert-info\" role=\"alert\"><b>Remember</b> to format your input questions in a pedagogical way to guide the user\n",
    "\n",
    "The number of stars (\\*), (\\*\\*), (\\*\\*\\*) denotes the difficulty level of the task\n",
    "\n",
    "---"
   ]
  },
  {
   "cell_type": "markdown",
   "metadata": {},
   "source": [
    "## 1. Count numbers (*)\n",
    "\n",
    "Use a **for** statement to count from: \n",
    "\n",
    "&nbsp; a) &nbsp; -10 to 10 with one increment (*)\n",
    "\n",
    "&nbsp; b) &nbsp; -10 to 10 with two increment (*)\n",
    "\n",
    "<details>\n",
    "\n",
    "<summary>Answer </summary>\n",
    "\n",
    "```\n",
    "a) -10 -9 -8 -7 -6 -5 -4 -3 -2 -1 0 1 2 3 4 5 6 7 8 9 10\n",
    "\n",
    "b) -10  -8  -6  -4  -2  0  2  4  6  8  10\n",
    "```\n",
    "\n",
    "</details>\n",
    "\n"
   ]
  },
  {
   "cell_type": "markdown",
   "metadata": {},
   "source": [
    "### a)\n",
    "\n",
    "\n"
   ]
  },
  {
   "cell_type": "code",
   "execution_count": 6,
   "metadata": {},
   "outputs": [
    {
     "name": "stdout",
     "output_type": "stream",
     "text": [
      "-10 -9 -8 -7 -6 -5 -4 -3 -2 -1 0 1 2 3 4 5 6 7 8 9 10 "
     ]
    }
   ],
   "source": [
    "# Use a....\n",
    "\n",
    "for number in range(-10,11):\n",
    "\n",
    "    print(number, end=\" \")"
   ]
  },
  {
   "cell_type": "markdown",
   "metadata": {},
   "source": [
    "### b)"
   ]
  },
  {
   "cell_type": "code",
   "execution_count": 7,
   "metadata": {},
   "outputs": [
    {
     "name": "stdout",
     "output_type": "stream",
     "text": [
      "-10 -8 -6 -4 -2 0 2 4 6 8 10 "
     ]
    }
   ],
   "source": [
    "# Increase increment by 2 in range (-10, 10)\n",
    "\n",
    "for number in range(-10,11, 2):\n",
    "\n",
    "    print(number, end=\" \")"
   ]
  },
  {
   "cell_type": "markdown",
   "metadata": {},
   "source": [
    "---\n",
    "## 2. Arithmetic sum (*)\n",
    "Use a **for** statement to compute the following sums: \n",
    "\n",
    "&nbsp; a) &nbsp; $\\text{sum} = 1 + 2 + \\ldots + 99+ 100$ (*)\n",
    "\n",
    "&nbsp; b) &nbsp; $\\text{sum} = 1 + 3 + 5 + \\ldots + 97 + 99$ (*)\n",
    "\n",
    "<details>\n",
    "\n",
    "<summary>Answer </summary>\n",
    "\n",
    "```\n",
    "a) 1 + 2 + ... + 99 + 100 = 5050 \n",
    "\n",
    "b) 1 + 3 + 5 +...+ 97 + 99 = 2500\n",
    "```\n",
    "\n",
    "</details>\n"
   ]
  },
  {
   "cell_type": "markdown",
   "metadata": {},
   "source": [
    "### a)"
   ]
  },
  {
   "cell_type": "code",
   "execution_count": 43,
   "metadata": {},
   "outputs": [
    {
     "name": "stdout",
     "output_type": "stream",
     "text": [
      "1+2+...+99=1\n",
      "1+2+...+99=3\n",
      "1+2+...+99=6\n",
      "1+2+...+99=10\n",
      "1+2+...+99=15\n",
      "1+2+...+99=21\n",
      "1+2+...+99=28\n",
      "1+2+...+99=36\n",
      "1+2+...+99=45\n",
      "1+2+...+99=55\n",
      "1+2+...+99=66\n",
      "1+2+...+99=78\n",
      "1+2+...+99=91\n",
      "1+2+...+99=105\n",
      "1+2+...+99=120\n",
      "1+2+...+99=136\n",
      "1+2+...+99=153\n",
      "1+2+...+99=171\n",
      "1+2+...+99=190\n",
      "1+2+...+99=210\n",
      "1+2+...+99=231\n",
      "1+2+...+99=253\n",
      "1+2+...+99=276\n",
      "1+2+...+99=300\n",
      "1+2+...+99=325\n",
      "1+2+...+99=351\n",
      "1+2+...+99=378\n",
      "1+2+...+99=406\n",
      "1+2+...+99=435\n",
      "1+2+...+99=465\n",
      "1+2+...+99=496\n",
      "1+2+...+99=528\n",
      "1+2+...+99=561\n",
      "1+2+...+99=595\n",
      "1+2+...+99=630\n",
      "1+2+...+99=666\n",
      "1+2+...+99=703\n",
      "1+2+...+99=741\n",
      "1+2+...+99=780\n",
      "1+2+...+99=820\n",
      "1+2+...+99=861\n",
      "1+2+...+99=903\n",
      "1+2+...+99=946\n",
      "1+2+...+99=990\n",
      "1+2+...+99=1035\n",
      "1+2+...+99=1081\n",
      "1+2+...+99=1128\n",
      "1+2+...+99=1176\n",
      "1+2+...+99=1225\n",
      "1+2+...+99=1275\n",
      "1+2+...+99=1326\n",
      "1+2+...+99=1378\n",
      "1+2+...+99=1431\n",
      "1+2+...+99=1485\n",
      "1+2+...+99=1540\n",
      "1+2+...+99=1596\n",
      "1+2+...+99=1653\n",
      "1+2+...+99=1711\n",
      "1+2+...+99=1770\n",
      "1+2+...+99=1830\n",
      "1+2+...+99=1891\n",
      "1+2+...+99=1953\n",
      "1+2+...+99=2016\n",
      "1+2+...+99=2080\n",
      "1+2+...+99=2145\n",
      "1+2+...+99=2211\n",
      "1+2+...+99=2278\n",
      "1+2+...+99=2346\n",
      "1+2+...+99=2415\n",
      "1+2+...+99=2485\n",
      "1+2+...+99=2556\n",
      "1+2+...+99=2628\n",
      "1+2+...+99=2701\n",
      "1+2+...+99=2775\n",
      "1+2+...+99=2850\n",
      "1+2+...+99=2926\n",
      "1+2+...+99=3003\n",
      "1+2+...+99=3081\n",
      "1+2+...+99=3160\n",
      "1+2+...+99=3240\n",
      "1+2+...+99=3321\n",
      "1+2+...+99=3403\n",
      "1+2+...+99=3486\n",
      "1+2+...+99=3570\n",
      "1+2+...+99=3655\n",
      "1+2+...+99=3741\n",
      "1+2+...+99=3828\n",
      "1+2+...+99=3916\n",
      "1+2+...+99=4005\n",
      "1+2+...+99=4095\n",
      "1+2+...+99=4186\n",
      "1+2+...+99=4278\n",
      "1+2+...+99=4371\n",
      "1+2+...+99=4465\n",
      "1+2+...+99=4560\n",
      "1+2+...+99=4656\n",
      "1+2+...+99=4753\n",
      "1+2+...+99=4851\n",
      "1+2+...+99=4950\n",
      "1+2+...+99=5050\n"
     ]
    }
   ],
   "source": [
    "\n",
    "sum = 0 \n",
    "\n",
    "# set range to calculate\n",
    "for number in range(1, 101):\n",
    "\n",
    "# calculate sum \n",
    "    sum += number \n",
    "    \n",
    "    print(f\"\""
   ]
  },
  {
   "cell_type": "code",
   "execution_count": 57,
   "metadata": {},
   "outputs": [
    {
     "name": "stdout",
     "output_type": "stream",
     "text": [
      "1 3 6 10 15 21 28 36 45 55 66 78 91 105 120 136 153 171 190 210 231 253 276 300 325 351 378 406 435 465 496 528 561 595 630 666 703 741 780 820 861 903 946 990 1035 1081 1128 1176 1225 1275 1326 1378 1431 1485 1540 1596 1653 1711 1770 1830 1891 1953 2016 2080 2145 2211 2278 2346 2415 2485 2556 2628 2701 2775 2850 2926 3003 3081 3160 3240 3321 3403 3486 3570 3655 3741 3828 3916 4005 4095 4186 4278 4371 4465 4560 4656 4753 4851 4950 5050 "
     ]
    }
   ],
   "source": [
    "sum = 0\n",
    "\n",
    "# calculate sum from 0-100\n",
    "for number in range(1, 101): \n",
    "    sum += number\n",
    "\n",
    "    print(f\"{sum}\", end=\" \",)\n"
   ]
  },
  {
   "cell_type": "markdown",
   "metadata": {},
   "source": [
    "---\n",
    "## 3. Multiplication table (*)\n",
    "Use **for** statement(s) to:\n",
    "\n",
    "&nbsp; a) &nbsp; print out the 6th multiplication table from 0 to 10 (*)\n",
    "\n",
    "&nbsp; b) &nbsp; let the user input the **table**, **start** and **end** of the table. (*)\n",
    "\n",
    "&nbsp; c) &nbsp; print out a full multiplication table from 0 to 10. (**)\n",
    "\n",
    "\n",
    "<details>\n",
    "\n",
    "<summary>Hint</summary>\n",
    "\n",
    "c) Use nested for-loops, which means a for-loop in a for-loop. To format the table nicely, use **f-string**: \n",
    "\n",
    "```python\n",
    "print(f\"{number :4}\", end = \"\")\n",
    "```\n",
    "\n",
    "\n",
    "</details>\n",
    "\n",
    "\n",
    "<details>\n",
    "\n",
    "<summary>Answer </summary>\n",
    "\n",
    "a)\n",
    "```\n",
    "0 6 12 18 24 30 36 42 48 54 60\n",
    "```\n",
    "\n",
    "b) e.g. \n",
    "\n",
    "```\n",
    "Which table are you interested in? 5\n",
    "Specify start of table: 5\n",
    "Specify end of table: 12\n",
    "\n",
    "Your 5th multiplication table from 5 to 12: 25 30 35 40 45 50 55 60\n",
    "```\n",
    "\n",
    "c)\n",
    "\n",
    "```\n",
    "   0   0   0   0   0   0   0   0   0   0   0\n",
    "   0   1   2   3   4   5   6   7   8   9  10\n",
    "   0   2   4   6   8  10  12  14  16  18  20\n",
    "   0   3   6   9  12  15  18  21  24  27  30\n",
    "   0   4   8  12  16  20  24  28  32  36  40\n",
    "   0   5  10  15  20  25  30  35  40  45  50\n",
    "   0   6  12  18  24  30  36  42  48  54  60\n",
    "   0   7  14  21  28  35  42  49  56  63  70\n",
    "   0   8  16  24  32  40  48  56  64  72  80\n",
    "   0   9  18  27  36  45  54  63  72  81  90\n",
    "   0  10  20  30  40  50  60  70  80  90 100\n",
    "```\n",
    "\n",
    "</details>"
   ]
  },
  {
   "cell_type": "markdown",
   "metadata": {},
   "source": [
    "### a)"
   ]
  },
  {
   "cell_type": "code",
   "execution_count": 37,
   "metadata": {},
   "outputs": [
    {
     "name": "stdout",
     "output_type": "stream",
     "text": [
      "6 * 1 = 6\n",
      "6 * 2 = 12\n",
      "6 * 3 = 18\n",
      "6 * 4 = 24\n",
      "6 * 5 = 30\n",
      "6 * 6 = 36\n",
      "6 * 7 = 42\n",
      "6 * 8 = 48\n",
      "6 * 9 = 54\n",
      "6 * 10 = 60\n"
     ]
    }
   ],
   "source": [
    "for i in range(1,11):\n",
    "    print(f\"6 * {i} = {6 * i}\")"
   ]
  },
  {
   "cell_type": "markdown",
   "metadata": {},
   "source": [
    "### b) "
   ]
  },
  {
   "cell_type": "code",
   "execution_count": 44,
   "metadata": {},
   "outputs": [
    {
     "name": "stdout",
     "output_type": "stream",
     "text": [
      "3 * 1 = 3\n",
      "3 * 2 = 6\n",
      "3 * 3 = 9\n",
      "3 * 4 = 12\n",
      "3 * 5 = 15\n",
      "3 * 6 = 18\n",
      "3 * 7 = 21\n",
      "3 * 8 = 24\n",
      "3 * 9 = 27\n",
      "3 * 10 = 30\n"
     ]
    }
   ],
   "source": [
    "# get user input for table \n",
    "table = int(input(\"Enter the multiplication table you want to print: \"))\n",
    "start = int(input(\"Enter the starting point of the table: \"))\n",
    "end = int(input(\"Enter the ending point of the table: \"))\n",
    "\n",
    "# Print the multiplication table based on user input\n",
    "for i in range(start, end + 1):\n",
    "    print(f\"{table} * {i} = {table * i}\")\n"
   ]
  },
  {
   "cell_type": "markdown",
   "metadata": {},
   "source": [
    "### c)\n"
   ]
  },
  {
   "cell_type": "code",
   "execution_count": 51,
   "metadata": {},
   "outputs": [
    {
     "name": "stdout",
     "output_type": "stream",
     "text": [
      "   0    1    2    3    4    5    6    7    8    9   10 \n",
      "   0    2    4    6    8   10   12   14   16   18   20 \n",
      "   0    3    6    9   12   15   18   21   24   27   30 \n",
      "   0    4    8   12   16   20   24   28   32   36   40 \n",
      "   0    5   10   15   20   25   30   35   40   45   50 \n",
      "   0    6   12   18   24   30   36   42   48   54   60 \n",
      "   0    7   14   21   28   35   42   49   56   63   70 \n",
      "   0    8   16   24   32   40   48   56   64   72   80 \n",
      "   0    9   18   27   36   45   54   63   72   81   90 \n",
      "   0   10   20   30   40   50   60   70   80   90  100 \n"
     ]
    }
   ],
   "source": [
    "# Full multiplication table from 0 to 10\n",
    "for i in range(1, 11):\n",
    "    for j in range(0, 11):\n",
    "        print(f\"{i * j:4}\", end=\" \")\n",
    "# New line   \n",
    "    print()  \n"
   ]
  },
  {
   "cell_type": "markdown",
   "metadata": {},
   "source": [
    "## 1. Check sign (*)\n",
    "\n",
    "Ask the user to input a number and check if this number is **positive**, **negative** or **zero** and print it out."
   ]
  },
  {
   "cell_type": "markdown",
   "metadata": {},
   "source": [
    "### Solution"
   ]
  },
  {
   "cell_type": "code",
   "execution_count": 58,
   "metadata": {},
   "outputs": [
    {
     "name": "stdout",
     "output_type": "stream",
     "text": [
      "The number is positive.\n"
     ]
    },
    {
     "ename": "ValueError",
     "evalue": "could not convert string to float: ''",
     "output_type": "error",
     "traceback": [
      "\u001b[0;31m---------------------------------------------------------------------------\u001b[0m",
      "\u001b[0;31mValueError\u001b[0m                                Traceback (most recent call last)",
      "Cell \u001b[0;32mIn[58], line 4\u001b[0m\n\u001b[1;32m      1\u001b[0m \u001b[38;5;66;03m# Define how many times you want to check numbers\u001b[39;00m\n\u001b[1;32m      2\u001b[0m \u001b[38;5;28;01mfor\u001b[39;00m i \u001b[38;5;129;01min\u001b[39;00m \u001b[38;5;28mrange\u001b[39m(\u001b[38;5;241m5\u001b[39m):  \u001b[38;5;66;03m# You can change the range as needed\u001b[39;00m\n\u001b[1;32m      3\u001b[0m     \u001b[38;5;66;03m# Ask the user to input a number\u001b[39;00m\n\u001b[0;32m----> 4\u001b[0m     number \u001b[38;5;241m=\u001b[39m \u001b[38;5;28;43mfloat\u001b[39;49m\u001b[43m(\u001b[49m\u001b[38;5;28;43minput\u001b[39;49m\u001b[43m(\u001b[49m\u001b[38;5;124;43m\"\u001b[39;49m\u001b[38;5;124;43mPlease enter a number: \u001b[39;49m\u001b[38;5;124;43m\"\u001b[39;49m\u001b[43m)\u001b[49m\u001b[43m)\u001b[49m\n\u001b[1;32m      6\u001b[0m     \u001b[38;5;66;03m# Check if the number is positive, negative, or zero\u001b[39;00m\n\u001b[1;32m      7\u001b[0m     \u001b[38;5;28;01mif\u001b[39;00m number \u001b[38;5;241m>\u001b[39m \u001b[38;5;241m0\u001b[39m:\n",
      "\u001b[0;31mValueError\u001b[0m: could not convert string to float: ''"
     ]
    }
   ],
   "source": [
    "# Define how many times you want to check numbers\n",
    "for i in range(5):  # You can change the range as needed\n",
    "    # Ask the user to input a number\n",
    "    number = float(input(\"Please enter a number: \"))\n",
    "\n",
    "    # Check if the number is positive, negative, or zero\n",
    "    if number > 0:\n",
    "        print(\"The number is positive.\")\n",
    "    elif number < 0:\n",
    "        print(\"The number is negative.\")\n",
    "    else:\n",
    "        print(\"The number is zero.\")\n"
   ]
  },
  {
   "cell_type": "markdown",
   "metadata": {},
   "source": [
    "---\n",
    "## 4. Faculty (*)\n",
    "\n",
    "Use a **for** statement to compute $n!$. \n",
    "\n",
    "$n! = 1\\cdot2\\cdot3\\cdot\\ldots\\cdot(n-1)\\cdot n $\n",
    "\n",
    "Let the user input $n$. "
   ]
  },
  {
   "cell_type": "markdown",
   "metadata": {},
   "source": [
    "### Solution 4:  "
   ]
  },
  {
   "cell_type": "code",
   "execution_count": 59,
   "metadata": {},
   "outputs": [
    {
     "name": "stdout",
     "output_type": "stream",
     "text": [
      "The factorial of 4 is 24\n"
     ]
    }
   ],
   "source": [
    "# Ask the user to input a number\n",
    "n = int(input(\"Please enter a number: \"))\n",
    "\n",
    "# Initialize the factorial result to 1\n",
    "factorial = 1\n",
    "\n",
    "# Use a for loop to compute the factorial\n",
    "for i in range(1, n + 1):\n",
    "    factorial *= i  # Multiply the current number to the result\n",
    "\n",
    "# Print the result\n",
    "print(f\"The factorial of {n} is {factorial}\")\n"
   ]
  },
  {
   "cell_type": "markdown",
   "metadata": {},
   "source": [
    "--- \n",
    "## 5. Guess the number (*)\n",
    "\n",
    "The computer thinks of a four-digit number. Start by creating a random four-digit number. Use **for** statement to figure out a correct guess\n",
    "\n",
    "<br>\n",
    "<details>\n",
    "\n",
    "<summary>Answer </summary>\n",
    "\n",
    "e.g.\n",
    "```\n",
    "The final guess is 8993\n",
    "The computer number is 8993\n",
    "```\n",
    "\n",
    "</details>"
   ]
  },
  {
   "cell_type": "code",
   "execution_count": null,
   "metadata": {},
   "outputs": [],
   "source": [
    "import random\n",
    "# Generate a random four-digit number\n",
    "dn = random.randint(1000, 9999)\n",
    "\n",
    "# Set guess to =\n",
    "guess = 0\n",
    "\n",
    "# Let for-loop run unitl correct answer \n",
    "\n",
    "for i in range(1000, 10000):\n",
    "    if i == dn:\n",
    "        guess = i\n",
    "        break\n",
    "\n",
    "    # Print the final guess and the computer's number\n",
    "print(f\"The final guess is {guess}\")\n",
    "print(f\"The computer number is {dn}\")\n",
    "    \n"
   ]
  },
  {
   "cell_type": "markdown",
   "metadata": {},
   "source": [
    "---\n",
    "## 6. Rice on chessboard (*)\n",
    "\n",
    "In first square of the chessboard there is one grain of rice, in the second square there is two grains, in the third square there is four grains and so on. How many grains are there in the whole chessboard when all squares are filled using this pattern?\n",
    "\n",
    "<img align=\"left\" src=\"../assets/chessboard.png\" width=\"300\"/>"
   ]
  },
  {
   "cell_type": "markdown",
   "metadata": {},
   "source": [
    "<details>\n",
    "\n",
    "<summary>Answer</summary>\n",
    "\n",
    "```\n",
    "18446744073709551615 number of grains\n",
    "```\n",
    "\n",
    "</details>"
   ]
  },
  {
   "cell_type": "code",
   "execution_count": 61,
   "metadata": {},
   "outputs": [
    {
     "name": "stdout",
     "output_type": "stream",
     "text": [
      "square 1  grains = 1  total= 1\n",
      "square 2  grains = 2  total= 3\n",
      "square 3  grains = 4  total= 7\n",
      "square 4  grains = 8  total= 15\n",
      "square 5  grains = 16  total= 31\n",
      "square 6  grains = 32  total= 63\n",
      "square 7  grains = 64  total= 127\n",
      "square 8  grains = 128  total= 255\n",
      "square 9  grains = 256  total= 511\n",
      "square 10  grains = 512  total= 1023\n",
      "square 11  grains = 1024  total= 2047\n",
      "square 12  grains = 2048  total= 4095\n",
      "square 13  grains = 4096  total= 8191\n",
      "square 14  grains = 8192  total= 16383\n",
      "square 15  grains = 16384  total= 32767\n",
      "square 16  grains = 32768  total= 65535\n",
      "square 17  grains = 65536  total= 131071\n",
      "square 18  grains = 131072  total= 262143\n",
      "square 19  grains = 262144  total= 524287\n",
      "square 20  grains = 524288  total= 1048575\n",
      "square 21  grains = 1048576  total= 2097151\n",
      "square 22  grains = 2097152  total= 4194303\n",
      "square 23  grains = 4194304  total= 8388607\n",
      "square 24  grains = 8388608  total= 16777215\n",
      "square 25  grains = 16777216  total= 33554431\n",
      "square 26  grains = 33554432  total= 67108863\n",
      "square 27  grains = 67108864  total= 134217727\n",
      "square 28  grains = 134217728  total= 268435455\n",
      "square 29  grains = 268435456  total= 536870911\n",
      "square 30  grains = 536870912  total= 1073741823\n",
      "square 31  grains = 1073741824  total= 2147483647\n",
      "square 32  grains = 2147483648  total= 4294967295\n",
      "square 33  grains = 4294967296  total= 8589934591\n",
      "square 34  grains = 8589934592  total= 17179869183\n",
      "square 35  grains = 17179869184  total= 34359738367\n",
      "square 36  grains = 34359738368  total= 68719476735\n",
      "square 37  grains = 68719476736  total= 137438953471\n",
      "square 38  grains = 137438953472  total= 274877906943\n",
      "square 39  grains = 274877906944  total= 549755813887\n",
      "square 40  grains = 549755813888  total= 1099511627775\n",
      "square 41  grains = 1099511627776  total= 2199023255551\n",
      "square 42  grains = 2199023255552  total= 4398046511103\n",
      "square 43  grains = 4398046511104  total= 8796093022207\n",
      "square 44  grains = 8796093022208  total= 17592186044415\n",
      "square 45  grains = 17592186044416  total= 35184372088831\n",
      "square 46  grains = 35184372088832  total= 70368744177663\n",
      "square 47  grains = 70368744177664  total= 140737488355327\n",
      "square 48  grains = 140737488355328  total= 281474976710655\n",
      "square 49  grains = 281474976710656  total= 562949953421311\n",
      "square 50  grains = 562949953421312  total= 1125899906842623\n",
      "square 51  grains = 1125899906842624  total= 2251799813685247\n",
      "square 52  grains = 2251799813685248  total= 4503599627370495\n",
      "square 53  grains = 4503599627370496  total= 9007199254740991\n",
      "square 54  grains = 9007199254740992  total= 18014398509481983\n",
      "square 55  grains = 18014398509481984  total= 36028797018963967\n",
      "square 56  grains = 36028797018963968  total= 72057594037927935\n",
      "square 57  grains = 72057594037927936  total= 144115188075855871\n",
      "square 58  grains = 144115188075855872  total= 288230376151711743\n",
      "square 59  grains = 288230376151711744  total= 576460752303423487\n",
      "square 60  grains = 576460752303423488  total= 1152921504606846975\n",
      "square 61  grains = 1152921504606846976  total= 2305843009213693951\n",
      "square 62  grains = 2305843009213693952  total= 4611686018427387903\n",
      "square 63  grains = 4611686018427387904  total= 9223372036854775807\n",
      "square 64  grains = 9223372036854775808  total= 18446744073709551615\n",
      "--------------------------------------------------------\n"
     ]
    }
   ],
   "source": [
    "grains_sum = 0\n",
    "grains = 1\n",
    "for square in range(1, 64+1):\n",
    "    grains_sum += grains\n",
    "    print(\"square {}  grains = {}  total= {}\".format(square, grains, grains_sum))\n",
    "    grains *= 2\n",
    "\n",
    "print('-'*56)"
   ]
  },
  {
   "cell_type": "markdown",
   "metadata": {},
   "source": [
    "---\n",
    "\n",
    "pr0fez Giang\n",
    "\n",
    "[LinkedIn][linkedIn_pr0fez]\n",
    "\n",
    "[GitHub portfolio][github_portfolio]\n",
    "\n",
    "[linkedIn_pr0fez]: https://www.linkedin.com/in/pr0fezgiang/\n",
    "[github_portfolio]: https://github.com/pr0fez/Portfolio-pr0fez-Giang\n",
    "\n",
    "---"
   ]
  }
 ],
 "metadata": {
  "kernelspec": {
   "display_name": "Python 3.9.6 64-bit",
   "language": "python",
   "name": "python3"
  },
  "language_info": {
   "codemirror_mode": {
    "name": "ipython",
    "version": 3
   },
   "file_extension": ".py",
   "mimetype": "text/x-python",
   "name": "python",
   "nbconvert_exporter": "python",
   "pygments_lexer": "ipython3",
   "version": "3.12.5"
  },
  "orig_nbformat": 4,
  "vscode": {
   "interpreter": {
    "hash": "0da836a34428266995a795f1e1e27b816fa1c02f148d9728b3fbbbc5459afca6"
   }
  }
 },
 "nbformat": 4,
 "nbformat_minor": 2
}
