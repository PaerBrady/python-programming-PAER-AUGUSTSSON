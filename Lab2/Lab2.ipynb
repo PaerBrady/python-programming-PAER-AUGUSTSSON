{
 "cells": [
  {
   "cell_type": "code",
   "execution_count": 29,
   "metadata": {},
   "outputs": [
    {
     "data": {
      "text/html": [
       "<div>\n",
       "<style scoped>\n",
       "    .dataframe tbody tr th:only-of-type {\n",
       "        vertical-align: middle;\n",
       "    }\n",
       "\n",
       "    .dataframe tbody tr th {\n",
       "        vertical-align: top;\n",
       "    }\n",
       "\n",
       "    .dataframe thead th {\n",
       "        text-align: right;\n",
       "    }\n",
       "</style>\n",
       "<table border=\"1\" class=\"dataframe\">\n",
       "  <thead>\n",
       "    <tr style=\"text-align: right;\">\n",
       "      <th></th>\n",
       "      <th>Width_cm</th>\n",
       "      <th>Height_cm</th>\n",
       "      <th>0-Pichu_1-Pikachu</th>\n",
       "    </tr>\n",
       "  </thead>\n",
       "  <tbody>\n",
       "    <tr>\n",
       "      <th>0</th>\n",
       "      <td>21.959384</td>\n",
       "      <td>31.239567</td>\n",
       "      <td>0</td>\n",
       "    </tr>\n",
       "    <tr>\n",
       "      <th>1</th>\n",
       "      <td>23.635916</td>\n",
       "      <td>36.468215</td>\n",
       "      <td>1</td>\n",
       "    </tr>\n",
       "    <tr>\n",
       "      <th>2</th>\n",
       "      <td>17.714056</td>\n",
       "      <td>31.441704</td>\n",
       "      <td>0</td>\n",
       "    </tr>\n",
       "    <tr>\n",
       "      <th>3</th>\n",
       "      <td>21.780200</td>\n",
       "      <td>33.213398</td>\n",
       "      <td>1</td>\n",
       "    </tr>\n",
       "    <tr>\n",
       "      <th>4</th>\n",
       "      <td>25.206306</td>\n",
       "      <td>36.558816</td>\n",
       "      <td>1</td>\n",
       "    </tr>\n",
       "  </tbody>\n",
       "</table>\n",
       "</div>"
      ],
      "text/plain": [
       "    Width_cm  Height_cm  0-Pichu_1-Pikachu\n",
       "0  21.959384  31.239567                  0\n",
       "1  23.635916  36.468215                  1\n",
       "2  17.714056  31.441704                  0\n",
       "3  21.780200  33.213398                  1\n",
       "4  25.206306  36.558816                  1"
      ]
     },
     "execution_count": 29,
     "metadata": {},
     "output_type": "execute_result"
    }
   ],
   "source": [
    "import pandas as pd\n",
    "\n",
    "df = pd.read_csv(\"datapoints.txt\")\n",
    "df.columns = df.columns.str.replace(\"(\", \"\").str.replace(\")\", \"\")\n",
    "df.columns = df.columns.str.strip().str.replace(\" \", \"_\").str.capitalize()\n",
    "df[\"0-Pichu_1-Pikachu\"] = df[\"Label_0-pichu\"]\n",
    "df = df.drop([\"Label_0-pichu\",\"1-pikachu\"], axis = 1)\n",
    "df.head()\n",
    "\n",
    "\n",
    " \n",
    "\n"
   ]
  },
  {
   "cell_type": "code",
   "execution_count": 31,
   "metadata": {},
   "outputs": [
    {
     "data": {
      "text/html": [
       "<div>\n",
       "<style scoped>\n",
       "    .dataframe tbody tr th:only-of-type {\n",
       "        vertical-align: middle;\n",
       "    }\n",
       "\n",
       "    .dataframe tbody tr th {\n",
       "        vertical-align: top;\n",
       "    }\n",
       "\n",
       "    .dataframe thead th {\n",
       "        text-align: right;\n",
       "    }\n",
       "</style>\n",
       "<table border=\"1\" class=\"dataframe\">\n",
       "  <thead>\n",
       "    <tr style=\"text-align: right;\">\n",
       "      <th></th>\n",
       "      <th>Width_cm</th>\n",
       "      <th>Height_cm</th>\n",
       "      <th>0-Pichu_1-Pikachu</th>\n",
       "    </tr>\n",
       "  </thead>\n",
       "  <tbody>\n",
       "    <tr>\n",
       "      <th>1</th>\n",
       "      <td>23.635916</td>\n",
       "      <td>36.468215</td>\n",
       "      <td>1</td>\n",
       "    </tr>\n",
       "    <tr>\n",
       "      <th>3</th>\n",
       "      <td>21.780200</td>\n",
       "      <td>33.213398</td>\n",
       "      <td>1</td>\n",
       "    </tr>\n",
       "    <tr>\n",
       "      <th>4</th>\n",
       "      <td>25.206306</td>\n",
       "      <td>36.558816</td>\n",
       "      <td>1</td>\n",
       "    </tr>\n",
       "    <tr>\n",
       "      <th>6</th>\n",
       "      <td>24.736457</td>\n",
       "      <td>35.332912</td>\n",
       "      <td>1</td>\n",
       "    </tr>\n",
       "    <tr>\n",
       "      <th>7</th>\n",
       "      <td>23.792576</td>\n",
       "      <td>38.103728</td>\n",
       "      <td>1</td>\n",
       "    </tr>\n",
       "    <tr>\n",
       "      <th>...</th>\n",
       "      <td>...</td>\n",
       "      <td>...</td>\n",
       "      <td>...</td>\n",
       "    </tr>\n",
       "    <tr>\n",
       "      <th>137</th>\n",
       "      <td>23.062887</td>\n",
       "      <td>35.040754</td>\n",
       "      <td>1</td>\n",
       "    </tr>\n",
       "    <tr>\n",
       "      <th>138</th>\n",
       "      <td>23.114574</td>\n",
       "      <td>35.530813</td>\n",
       "      <td>1</td>\n",
       "    </tr>\n",
       "    <tr>\n",
       "      <th>139</th>\n",
       "      <td>23.640679</td>\n",
       "      <td>38.192279</td>\n",
       "      <td>1</td>\n",
       "    </tr>\n",
       "    <tr>\n",
       "      <th>140</th>\n",
       "      <td>23.631672</td>\n",
       "      <td>34.529809</td>\n",
       "      <td>1</td>\n",
       "    </tr>\n",
       "    <tr>\n",
       "      <th>148</th>\n",
       "      <td>21.989954</td>\n",
       "      <td>33.645903</td>\n",
       "      <td>1</td>\n",
       "    </tr>\n",
       "  </tbody>\n",
       "</table>\n",
       "<p>75 rows × 3 columns</p>\n",
       "</div>"
      ],
      "text/plain": [
       "      Width_cm  Height_cm  0-Pichu_1-Pikachu\n",
       "1    23.635916  36.468215                  1\n",
       "3    21.780200  33.213398                  1\n",
       "4    25.206306  36.558816                  1\n",
       "6    24.736457  35.332912                  1\n",
       "7    23.792576  38.103728                  1\n",
       "..         ...        ...                ...\n",
       "137  23.062887  35.040754                  1\n",
       "138  23.114574  35.530813                  1\n",
       "139  23.640679  38.192279                  1\n",
       "140  23.631672  34.529809                  1\n",
       "148  21.989954  33.645903                  1\n",
       "\n",
       "[75 rows x 3 columns]"
      ]
     },
     "execution_count": 31,
     "metadata": {},
     "output_type": "execute_result"
    }
   ],
   "source": [
    "pikachu = df[df[\"0-Pichu_1-Pikachu\"] == 1]\n",
    "pichu = df[df[\"0-Pichu_1-Pikachu\"] == 0]\n",
    "pikachu"
   ]
  },
  {
   "cell_type": "code",
   "execution_count": 32,
   "metadata": {},
   "outputs": [
    {
     "data": {
      "image/png": "[encoded data removed]",
      "text/plain": [
       "<Figure size 640x480 with 1 Axes>"
      ]
     },
     "metadata": {},
     "output_type": "display_data"
    }
   ],
   "source": [
    "import matplotlib.pyplot as plt\n",
    "\n",
    "plt.scatter(x = pikachu[\"Width_cm\"], y = pikachu[\"Height_cm\"], color = \"green\")\n",
    "plt.scatter(x = pichu[\"Width_cm\"], y = pichu[\"Height_cm\"], color = \"red\")\n",
    "plt.show()\n",
    "\n",
    "#df.plot(kind= \"scatter\", x = \"Width_cm\", y = \"Height_cm\", color = \"purple\")\n",
    "#plt.show()\n"
   ]
  },
  {
   "cell_type": "code",
   "execution_count": 15,
   "metadata": {},
   "outputs": [
    {
     "data": {
      "text/html": [
       "<div>\n",
       "<style scoped>\n",
       "    .dataframe tbody tr th:only-of-type {\n",
       "        vertical-align: middle;\n",
       "    }\n",
       "\n",
       "    .dataframe tbody tr th {\n",
       "        vertical-align: top;\n",
       "    }\n",
       "\n",
       "    .dataframe thead th {\n",
       "        text-align: right;\n",
       "    }\n",
       "</style>\n",
       "<table border=\"1\" class=\"dataframe\">\n",
       "  <thead>\n",
       "    <tr style=\"text-align: right;\">\n",
       "      <th></th>\n",
       "      <th>Width_cm</th>\n",
       "      <th>Height_cm</th>\n",
       "    </tr>\n",
       "  </thead>\n",
       "  <tbody>\n",
       "    <tr>\n",
       "      <th>1</th>\n",
       "      <td>25</td>\n",
       "      <td>32</td>\n",
       "    </tr>\n",
       "    <tr>\n",
       "      <th>2</th>\n",
       "      <td>24.2</td>\n",
       "      <td>31.5</td>\n",
       "    </tr>\n",
       "    <tr>\n",
       "      <th>3</th>\n",
       "      <td>22</td>\n",
       "      <td>34</td>\n",
       "    </tr>\n",
       "    <tr>\n",
       "      <th>4</th>\n",
       "      <td>20.5</td>\n",
       "      <td>34</td>\n",
       "    </tr>\n",
       "  </tbody>\n",
       "</table>\n",
       "</div>"
      ],
      "text/plain": [
       "  Width_cm Height_cm\n",
       "1       25        32\n",
       "2     24.2      31.5\n",
       "3       22        34\n",
       "4     20.5        34"
      ]
     },
     "execution_count": 15,
     "metadata": {},
     "output_type": "execute_result"
    }
   ],
   "source": [
    "import pandas as pd\n",
    "#skapa en tom lista \n",
    "test_list = []\n",
    "\n",
    "# Öppna testdatan och läs in som testfil.   \n",
    "with open(\"testpoints.txt\", \"r\") as test_file: # tilldela filobjeette till \"test_file\"\n",
    "    fil = test_file.readlines()\n",
    "    for line in fil:\n",
    "        test_list.append(line)\n",
    "\n",
    "#omvandla datan till en dataframe\n",
    "test_data = pd.DataFrame(test_list, columns= [\"test_d\"])\n",
    "test_data = test_data.drop(0, axis = 0) \n",
    "\n",
    "#gör om data till lämlplig struktur \n",
    "test_data[\"Width_cm\"] = test_data[\"test_d\"].str.split(\"(\").str.get(1).str.split(\",\").str.get(0)\n",
    "test_data[\"Height_cm\"] = test_data[\"test_d\"].str.split(\")\").str.get(0).str.split(\",\").str.get(1)\n",
    "test_data = test_data.drop(\"test_d\", axis= 1)\n",
    "test_data"
   ]
  },
  {
   "cell_type": "code",
   "execution_count": 71,
   "metadata": {},
   "outputs": [
    {
     "name": "stdout",
     "output_type": "stream",
     "text": [
      "is a not a number\n"
     ]
    },
    {
     "ename": "TypeError",
     "evalue": "'<' not supported between instances of 'str' and 'int'",
     "output_type": "error",
     "traceback": [
      "\u001b[0;31m---------------------------------------------------------------------------\u001b[0m",
      "\u001b[0;31mTypeError\u001b[0m                                 Traceback (most recent call last)",
      "Cell \u001b[0;32mIn[71], line 15\u001b[0m\n\u001b[1;32m     12\u001b[0m \u001b[38;5;28;01mif\u001b[39;00m user_number\u001b[38;5;241m.\u001b[39misdigit() \u001b[38;5;241m==\u001b[39m \u001b[38;5;28;01mTrue\u001b[39;00m:\n\u001b[1;32m     13\u001b[0m    org_user_numb \u001b[38;5;241m=\u001b[39m \u001b[38;5;28mfloat\u001b[39m(org_user_numb)\n\u001b[0;32m---> 15\u001b[0m \u001b[38;5;28;01mif\u001b[39;00m \u001b[43morg_user_numb\u001b[49m\u001b[43m \u001b[49m\u001b[38;5;241;43m<\u001b[39;49m\u001b[43m \u001b[49m\u001b[38;5;241;43m0\u001b[39;49m:\n\u001b[1;32m     16\u001b[0m      \u001b[38;5;28mprint\u001b[39m(\u001b[38;5;124m\"\u001b[39m\u001b[38;5;124mis a negative number\u001b[39m\u001b[38;5;124m\"\u001b[39m)\n\u001b[1;32m     17\u001b[0m \u001b[38;5;28;01melse\u001b[39;00m:\n",
      "\u001b[0;31mTypeError\u001b[0m: '<' not supported between instances of 'str' and 'int'"
     ]
    }
   ],
   "source": [
    "# måste loopa pga av och break vid rätt först loop för input tills rätt. Vilken looop passar #While loop  Inne i loopen skriv instruktioner. Den input ska kollas om det är sträng skicka felmeddelande med feeback, om numerical ett steg till om den är positiv eller negativ om båda är sanna (true) rätt value bsedan break. \n",
    "\n",
    "\n",
    "while True: \n",
    "    user_number = input(\"Please enter a number:\")\n",
    "    org_user_numb = user_number\n",
    "    user_number = user_number.replace(\".\", \"\").replace(\"-\", \"\")\n",
    "\n",
    "    if user_number.isdigit() == False:\n",
    "         print(\"is a not a number\")\n",
    "    \n",
    "    if user_number.isdigit() == True:\n",
    "       org_user_numb = float(org_user_numb)\n",
    "    \n",
    "    if org_user_numb < 0:\n",
    "         print(\"is a negative number\")\n",
    "    else:\n",
    "         print(\"done\")\n",
    "         break\n"
   ]
  },
  {
   "cell_type": "code",
   "execution_count": 54,
   "metadata": {},
   "outputs": [
    {
     "name": "stdout",
     "output_type": "stream",
     "text": [
      "Pikachu\n"
     ]
    },
    {
     "data": {
      "text/plain": [
       "np.float64(10.546499996229134)"
      ]
     },
     "execution_count": 54,
     "metadata": {},
     "output_type": "execute_result"
    }
   ],
   "source": [
    "import numpy as np\n",
    "#tetsdata\n",
    "#pikachu\n",
    "#pichu\n",
    "\n",
    "dist_pikachu = []\n",
    "dist_pichu = []\n",
    "\n",
    "for x, y in zip(pikachu[\"Width_cm\"], pikachu[\"Height_cm\"]):\n",
    "        dist_pikachu.append(np.sqrt(np.power(x- 32, 2) + np.power(x -24.6573, 2))) #Eucledian distance formula  leta efter avstång mellan alla puntre per rad och kolumn för inmatat värde \n",
    "\n",
    "\n",
    "for x, y in zip(pichu[\"Width_cm\"], pichu[\"Height_cm\"]): #Tar bara rad oavsett om det står 2,5,7 istället för rad i numeriks ordning \n",
    "        dist_pichu.append(np.sqrt(np.power(x - 32, 2) + np.power(y -24.6573, 2)))\n",
    "\n",
    "shortest_pichu = min(dist_pichu)\n",
    "shorest_pikachu = min(dist_pikachu)\n",
    "\n",
    "# om pichu är mindre än pikachu skriv pichu annars skriv pikachu \n",
    "\n",
    "if shortest_pichu < shorest_pikachu: \n",
    "        print(\"Pichu\")\n",
    "else: \n",
    "        print(\"Pikachu\")\n",
    "shortest_pichu"
   ]
  }
 ],
 "metadata": {
  "kernelspec": {
   "display_name": "Python 3",
   "language": "python",
   "name": "python3"
  },
  "language_info": {
   "codemirror_mode": {
    "name": "ipython",
    "version": 3
   },
   "file_extension": ".py",
   "mimetype": "text/x-python",
   "name": "python",
   "nbconvert_exporter": "python",
   "pygments_lexer": "ipython3",
   "version": "3.12.5"
  }
 },
 "nbformat": 4,
 "nbformat_minor": 2
}
